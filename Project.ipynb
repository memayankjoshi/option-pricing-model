{
 "cells": [
  {
   "cell_type": "markdown",
   "metadata": {},
   "source": [
    "# Project: "
   ]
  },
  {
   "cell_type": "markdown",
   "metadata": {},
   "source": [
    "## P1\n",
    "Calculate the futures price for a coffee contract maturing in six months using the current spot price, the risk-free interest rate, and the estimated storage costs."
   ]
  },
  {
   "cell_type": "markdown",
   "metadata": {},
   "source": [
    "-\tSt: Spot price\n",
    "-\tr: Risk-free rate\n",
    "-\td: Storage cost\n",
    "-\tT: Time to maturity \n"
   ]
  },
  {
   "attachments": {
    "image.png": {
     "image/png": "[encoded data removed]"
    }
   },
   "cell_type": "markdown",
   "metadata": {},
   "source": [
    "![image.png](attachment:image.png)"
   ]
  },
  {
   "cell_type": "code",
   "execution_count": 1,
   "metadata": {},
   "outputs": [],
   "source": [
    "import numpy as np\n",
    "def costCarry(St,r,d,T):\n",
    "    Ft = St * np.exp((r+d)*T)\n",
    "    print(f\"The fair price of the coffee futures contract is ${Ft:.3f} per pound.\")\n",
    "    "
   ]
  },
  {
   "cell_type": "code",
   "execution_count": 2,
   "metadata": {},
   "outputs": [
    {
     "name": "stdout",
     "output_type": "stream",
     "text": [
      "The fair price of the coffee futures contract is $1.218 per pound.\n"
     ]
    }
   ],
   "source": [
    "T = 0.5 # 6 month in year\n",
    "St = 1.20  # Spot price in dollars\n",
    "r = 0.02  # Risk-free rate (2%)\n",
    "d = 0.01  # Storage cost (1%)\n",
    "\n",
    "costCarry(St,r,d,T)"
   ]
  },
  {
   "cell_type": "markdown",
   "metadata": {},
   "source": [
    "## P2\n",
    "Price a call option on a coffee futures contract using the current spot price, strike price, risk-free rate, time to maturity, and volatility."
   ]
  },
  {
   "cell_type": "markdown",
   "metadata": {},
   "source": [
    "-\tC: Call option price\n",
    "-\tS0: Spot price\n",
    "-\tX: Strike price\n",
    "-\tr: Risk-free rate\n",
    "-\tT: Time to maturity\n",
    "-\tσ: Volatility\n"
   ]
  },
  {
   "attachments": {
    "image-2.png": {
     "image/png": "[encoded data removed]"
    },
    "image-3.png": {
     "image/png": "[encoded data removed]"
    },
    "image.png": {
     "image/png": "[encoded data removed]"
    }
   },
   "cell_type": "markdown",
   "metadata": {},
   "source": [
    "### Black-Scholes formula:\n",
    "![image.png](attachment:image.png)\n",
    "\n",
    "![image-2.png](attachment:image-2.png)\n",
    "\n",
    "![image-3.png](attachment:image-3.png)"
   ]
  },
  {
   "cell_type": "code",
   "execution_count": 5,
   "metadata": {},
   "outputs": [],
   "source": [
    "from scipy.stats import norm\n",
    "def black_Scholes(S_0,X,r,T,sigma):\n",
    "    d1 = (np.log(S_0 / X) + (r + 0.5 * sigma ** 2) * T) / (sigma * np.sqrt(T))\n",
    "    d2 = d1 - sigma * np.sqrt(T)\n",
    "    C = S_0 * norm.cdf(d1) - X * np.exp(-r * T) * norm.cdf(d2)\n",
    "    print(f\"The price of the call option is ${C:.3f}.\")\n"
   ]
  },
  {
   "cell_type": "code",
   "execution_count": 6,
   "metadata": {},
   "outputs": [
    {
     "name": "stdout",
     "output_type": "stream",
     "text": [
      "The price of the call option is $0.068.\n"
     ]
    }
   ],
   "source": [
    "\n",
    "S_0 = 1.20  # Spot price in dollars\n",
    "X = 1.25  # Strike price in dollars\n",
    "r = 0.02  # Risk-free rate (2%)\n",
    "T = 0.5  # Time to maturity in years\n",
    "sigma = 0.25  # Volatility (25%)\n",
    "\n",
    "black_Scholes(S_0,X,r,T,sigma)\n"
   ]
  },
  {
   "cell_type": "markdown",
   "metadata": {},
   "source": [
    "## P3\n",
    "\n",
    "Run simulations to forecast the price of coffee futures under different market conditions. Evaluate the impact of varying supply, demand, and weather scenarios."
   ]
  },
  {
   "cell_type": "markdown",
   "metadata": {},
   "source": [
    "### Monte-Carlo Simulation"
   ]
  },
  {
   "cell_type": "code",
   "execution_count": 7,
   "metadata": {},
   "outputs": [
    {
     "name": "stdout",
     "output_type": "stream",
     "text": [
      "The average simulated price of the coffee futures contract at maturity is $1.210.\n"
     ]
    }
   ],
   "source": [
    "num_simulations = 10000  \n",
    "num_steps = 252  \n",
    "\n",
    "\n",
    "dt = T / num_steps\n",
    "\n",
    "np.random.seed(42)  \n",
    "price_paths = np.zeros((num_steps, num_simulations))\n",
    "price_paths[0] = S_0\n",
    "\n",
    "for t in range(1, num_steps):\n",
    "    z = np.random.standard_normal(num_simulations)\n",
    "    price_paths[t] = price_paths[t-1] * np.exp((r - 0.5 * sigma ** 2) * dt + sigma * np.sqrt(dt) * z)\n",
    "\n",
    "# Calculating the average simulated price at last\n",
    "average_simulated_price = np.mean(price_paths[-1])\n",
    "print(f\"The average simulated price of the coffee futures contract at maturity is ${average_simulated_price:.3f}.\")\n"
   ]
  },
  {
   "cell_type": "code",
   "execution_count": null,
   "metadata": {},
   "outputs": [],
   "source": [
    "import matplotlib.pyplot as plt\n",
    "\n",
    "plt.figure(figsize=(10, 6))\n",
    "for i in range(100):  \n",
    "    plt.plot(price_paths[:, i], lw=0.5, alpha=0.6)\n",
    "plt.plot(np.mean(price_paths, axis=1), 'k-', lw=2, label='Mean Path')\n",
    "plt.title('Monte Carlo Simulation of Coffee Futures Prices')\n",
    "plt.xlabel('Time Steps')\n",
    "plt.ylabel('Price ($)')\n",
    "plt.legend()\n",
    "plt.grid(True)\n",
    "plt.show()"
   ]
  }
 ],
 "metadata": {
  "language_info": {
   "name": "python"
  }
 },
 "nbformat": 4,
 "nbformat_minor": 2
}
